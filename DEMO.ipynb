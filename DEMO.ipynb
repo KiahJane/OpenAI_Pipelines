{
 "cells": [
  {
   "cell_type": "markdown",
   "id": "0fab69d6-d053-4812-9325-2c8525cb9c67",
   "metadata": {},
   "source": [
    "# OpenAI - Resume & Cover Letter Pipeline\n",
    "### A project that leverages OpenAI's API to enhance the job application process, crafting tailored resumes and personalized cover letters for targeted job opportunities."
   ]
  },
  {
   "cell_type": "code",
   "execution_count": null,
   "id": "45702fbb-b371-4007-9867-801b7093f742",
   "metadata": {},
   "outputs": [],
   "source": [
    "# Imports\n",
    "import os\n",
    "import webbrowser\n",
    "import nltk\n",
    "from nltk.corpus import stopwords\n",
    "from nltk.tokenize import word_tokenize\n",
    "import tiktoken"
   ]
  },
  {
   "cell_type": "markdown",
   "id": "531a5743-0176-4247-8293-82f42365b347",
   "metadata": {
    "jp-MarkdownHeadingCollapsed": true
   },
   "source": [
    "##### Functions"
   ]
  },
  {
   "cell_type": "code",
   "execution_count": 4,
   "id": "97fb9340-b9d7-48a4-931c-836197d28ed3",
   "metadata": {},
   "outputs": [],
   "source": [
    "def get_user_inputs(questions_dict):\n",
    "    \"\"\"Prompt the user for input based on questions provided in a dictionary.\n",
    "    Allows multiline inputs and doesn't accept empty inputs.\n",
    "    \n",
    "    Params:\n",
    "        questions_dict (dict): Keys are variable names and values are questions.\n",
    "    Returns:\n",
    "        user_answers (dict): Keys are variable names and values are user inputs.\n",
    "    \"\"\"\n",
    "    user_answers = {}\n",
    "\n",
    "    for variable, question in questions_dict.items():\n",
    "        print(question)\n",
    "        print(\"     Enter 'END' on a new line when you are finished:\")\n",
    "\n",
    "        while True:\n",
    "            user_input = \"\"\n",
    "            while True:\n",
    "                line = input()\n",
    "                if line.strip().upper() == 'END':  # Using 'END' as a signal to finish the input\n",
    "                    break\n",
    "                user_input += line + \"\\n\"\n",
    "\n",
    "            user_input = user_input.strip()\n",
    "\n",
    "            if user_input:  # Check if the input is non-empty\n",
    "                user_answers[variable] = user_input\n",
    "                break  # Exit the loop if a valid input is received\n",
    "            print(\"Input cannot be empty. Please enter a valid response.\")\n",
    "\n",
    "    return user_answers"
   ]
  },
  {
   "cell_type": "code",
   "execution_count": 5,
   "id": "dfe47b59-124a-476b-9517-5d1fd3a81a26",
   "metadata": {},
   "outputs": [],
   "source": [
    "def remove_empty_lines(input_str):\n",
    "    \"\"\"Removes empty lines from a multi-line string.\n",
    "    \n",
    "    Params:\n",
    "        input_str (str): The input string with possible empty or whitespace-only lines.\n",
    "    Returns:\n",
    "        str: A string with empty and whitespace-only lines removed\n",
    "    \"\"\"\n",
    "    return '\\n'.join(line for line in input_str.split('\\n') if line.strip())"
   ]
  },
  {
   "cell_type": "code",
   "execution_count": 6,
   "id": "823133df-f64c-4fed-a78c-ea3687ec1279",
   "metadata": {},
   "outputs": [],
   "source": [
    "def remove_stopwords(text):\n",
    "    \"\"\"Remove stop words and non-ASCII characters from the input text.\n",
    "    \n",
    "    Params:\n",
    "        text (str): The input string from which stop words and non-ASCII characters will be removed.\n",
    "    Returns:\n",
    "        filtered_text (str): A string with stop words and non-ASCII characters removed.\n",
    "    \"\"\"\n",
    "    stop_words = set(stopwords.words(\"english\"))\n",
    "    words = word_tokenize(text)\n",
    "    # Removing non-ASCII characters\n",
    "    words = [word.encode(\"ascii\", \"ignore\").decode(\"ascii\") for word in words]\n",
    "\n",
    "    filtered_text = \" \".join(word for word in words if word.lower() not in stop_words)\n",
    "    return filtered_text"
   ]
  },
  {
   "cell_type": "code",
   "execution_count": 7,
   "id": "187767eb-c159-4e93-a42e-60497a19ab0e",
   "metadata": {},
   "outputs": [],
   "source": [
    "def create_prompt(questions_dict, prompts_list):\n",
    "    \"\"\"Create prompt (input) to use with ChatGPT.\n",
    "\n",
    "    Params:\n",
    "        questions_dict (dict): key - variable name; value - question used to get user input\n",
    "        prompts_list (list of str): List of templates for the prompts\n",
    "    Returns:\n",
    "        prompt (str): Formatted prompt including user's inputs\n",
    "    \"\"\"\n",
    "    # Get user input\n",
    "    user_answers = get_user_inputs(questions_dict)\n",
    "\n",
    "    # Update prompt with user input\n",
    "    for prompt in prompts_list:\n",
    "        try:\n",
    "            prompt = prompt.format(**user_answers)\n",
    "        except KeyError as e:\n",
    "            print(f\"Error: Missing value for placeholder {{{e.args[0]}}} in the prompt.\")\n",
    "            return None  # or you could return a default prompt or an error prompt\n",
    "\n",
    "        # Remove empty lines of string\n",
    "        return remove_stopwords(remove_empty_lines(prompt))"
   ]
  },
  {
   "cell_type": "code",
   "execution_count": 8,
   "id": "ed1cb031-952b-47cc-864b-a79f6973ee1b",
   "metadata": {},
   "outputs": [],
   "source": [
    "def count_tokens(prompt_input, encoding):\n",
    "    \"\"\"\n",
    "    Counts tokens in the input, which can be a string, list of strings, or list of dictionaries.\n",
    "\n",
    "    Params:\n",
    "        prompt_input (str or list or dict): The input to count tokens from.\n",
    "        encoding (class): tiktoken.core.Encoding -- encoding for an OpenAI model\n",
    "    Returns:\n",
    "        num_tokens (int): The total count of tokens.\n",
    "    \"\"\"\n",
    "    num_tokens = 0\n",
    "\n",
    "    def tokenize_text(text, encoding):\n",
    "        \"\"\" Tokenize a given text.\n",
    "        \n",
    "        Params:\n",
    "            text (str): The text input to process.\n",
    "            encoding (class): tiktoken.core.Encoding -- encoding for an OpenAI model\n",
    "        Returns:\n",
    "            (int): The number of tokens in the text.\n",
    "        \"\"\"\n",
    "        # Tokenize the text\n",
    "        tokens_int = encoding.encode(text)\n",
    "        # View the corresponding token string for each integer token\n",
    "        print(\"Token String-Integer Pairs:\\n\",\n",
    "              [encoding.decode_single_token_bytes(token) for token in tokens_int])\n",
    "        return len(tokens_int)\n",
    "\n",
    "    # Check if prompt_input is string\n",
    "    if isinstance(prompt_input, str):\n",
    "        #print(f\"Handled a string: {input}\")        \n",
    "        num_tokens += tokenize_text(prompt_input, encoding) + 3 # (+3): every reply is primed with <|start|>assistant<|message|>\n",
    "        return num_tokens\n",
    "\n",
    "    # Check if prompt_input is list\n",
    "    if isinstance(prompt_input, list):\n",
    "        # Check if the list contains strings\n",
    "        if all(isinstance(i, str) for i in prompt_input):\n",
    "            #print(f\"Handled a list of strings: {input}\")\n",
    "            for text in prompt_input:\n",
    "                num_tokens += tokenize_text(text, encoding)\n",
    "            num_tokens += 3\n",
    "            return num_tokens\n",
    "\n",
    "        # Check if list contains dictionaries\n",
    "        if (all(isinstance(i, dict) for i in prompt_input) and\n",
    "            all(all(isinstance(val, str) for val in i.values()) for i in prompt_input)):\n",
    "            #print(f\"Handled a list of dictionaries of strings: {input}\")\n",
    "\n",
    "            num_tokens += 4  # (+4): every message follows <|start|>{role/name}\\n{content}<|end|>\\n\n",
    "            for message in prompt_input:\n",
    "                for key, value in message.items():\n",
    "                    num_tokens += tokenize_text(prompt_input, encoding)\n",
    "                num_tokens += 3\n",
    "            return num_tokens\n",
    "\n",
    "        if prompt_input is None:\n",
    "            return print(prompt_input)\n",
    "        return \"Invalid input: List must contain either strings or dictionaries of strings.\"\n",
    "    return \"Invalid input type: Must be string, list of strings, or list of dictionaries.\""
   ]
  },
  {
   "cell_type": "code",
   "execution_count": 9,
   "id": "004b7146-19a0-4529-b26e-049c9dc621b4",
   "metadata": {},
   "outputs": [],
   "source": [
    "def main(model_encoders):\n",
    "    \"\"\"\n",
    "    Counts the number of tokens in a text | message to be sent to an OpenAI model using the API\n",
    "\n",
    "    Params:\n",
    "        model_encoders (list of str): List of specific OpenAI models to be used for encoding\n",
    "    Returns:\n",
    "        None\n",
    "    \"\"\"\n",
    "    # Define prompt input\n",
    "    prompt = create_prompt(user_input_questions, prompts)\n",
    "\n",
    "    # Calculate tokens required by each model encoder\n",
    "    for model_encoder in model_encoders:\n",
    "        encoding = tiktoken.encoding_for_model(model_encoder)\n",
    "        num_tokens = count_tokens(prompt, encoding)\n",
    "        print(f\"\\n\\nThis encoding takes a total of {num_tokens} tokens (model: {model_encoder})\\n\")\n",
    "        assert encoding.decode(encoding.encode(prompt)) == prompt, \"Error: failed input encoding.\"\n"
   ]
  },
  {
   "cell_type": "markdown",
   "id": "16f0baf3-311a-4437-ac4f-69cc33021962",
   "metadata": {
    "jp-MarkdownHeadingCollapsed": true
   },
   "source": [
    "##### Parameters"
   ]
  },
  {
   "cell_type": "code",
   "execution_count": 2,
   "id": "764e33b2-e3b0-41c6-b9e8-a94c2b52a77c",
   "metadata": {},
   "outputs": [],
   "source": [
    "# User input questions\n",
    "user_input_questions = {\n",
    "    \"career\": \"What is your current profession or career field? \",\n",
    "    \"yrs_experience\": \"How many years of professional experience do you have? \",\n",
    "    \"job_posting_title\": \"What is the job position title you are interested in applying for? \",\n",
    "    \"job_description\": \"Please paste the entire job description into the terminal: \",\n",
    "    \"about_page\": \"Please paste the entire about page into the terminal: \",\n",
    "    \"resume\": \"Please paste your entire resume into the terminal: \",\n",
    "    \"eg_output\": \"Please paste an output example into the terminal: \" # for calculating tokens\n",
    "    }"
   ]
  },
  {
   "cell_type": "code",
   "execution_count": 3,
   "id": "948342fa-d86f-44ba-b2e6-ebdedf34ce55",
   "metadata": {},
   "outputs": [],
   "source": [
    "# ChatGPT prompts\n",
    "prompts = [\n",
    "'''I have {yrs_experience} years of {career} experience from various projects and recently found a {job_posting_title} job posting on LinkedIn.\n",
    "Your task:\n",
    "    1. Review the job description, company's about page, and my resume.\n",
    "    2. Craft a 1-page cover letter for the application, utilizing the provided texts.\n",
    "    3. Tailor my resume to align more closely with the company and position, leveraging my experience and strengths.\n",
    "    4. Return the data in a JSON format with keys \"cover_leter\" and  \"resume\", each with values of one string that contains the outputs of steps 2 and 3.\n",
    "Shall we begin?\n",
    "The following is the job posting:\\n{job_description}\n",
    "The following is the company's about page:\\n{about_page}\n",
    "The following is my current resume:\\n{resume}\\n\n",
    "Complete now the above tasks 1-4.\n",
    "{eg_output}'''\n",
    "]"
   ]
  },
  {
   "cell_type": "code",
   "execution_count": 10,
   "id": "6ba01b8c-11f7-4b9f-894e-13bef2b666ef",
   "metadata": {},
   "outputs": [],
   "source": [
    "# OpenAI models available through the API\n",
    "model_encoders = [\"gpt-4\",                  # for gpt-4\n",
    "                \"gpt-3.5-turbo\",            # for gpt-3.5-turbo  \n",
    "                \"text-embedding-ada-002\"]   # for text-embedding-ada-002\n",
    "model_encoders = [\"gpt-4\"]  # shorter list for testing"
   ]
  },
  {
   "cell_type": "markdown",
   "id": "004f5a5d-1ee7-4a47-955d-361926f71a4b",
   "metadata": {
    "jp-MarkdownHeadingCollapsed": true
   },
   "source": [
    "##### Data"
   ]
  },
  {
   "cell_type": "code",
   "execution_count": 17,
   "id": "0188bebf-34da-4055-adac-e877a709b5b4",
   "metadata": {},
   "outputs": [
    {
     "data": {
      "text/plain": [
       "True"
      ]
     },
     "execution_count": 17,
     "metadata": {},
     "output_type": "execute_result"
    }
   ],
   "source": [
    "# Job Description\n",
    "webbrowser.open('https://www.transcom.com/hr/careers/job-openings/data-engineer/')"
   ]
  },
  {
   "cell_type": "code",
   "execution_count": 18,
   "id": "8fab9a8a-97a0-4297-be5b-9dc2c1539d81",
   "metadata": {},
   "outputs": [
    {
     "data": {
      "text/plain": [
       "True"
      ]
     },
     "execution_count": 18,
     "metadata": {},
     "output_type": "execute_result"
    }
   ],
   "source": [
    "# About Page\n",
    "webbrowser.open('https://www.transcom.com/about-us/who-we-are/')"
   ]
  },
  {
   "cell_type": "code",
   "execution_count": 15,
   "id": "416d514e-1b3c-4910-8e49-1c17c7245649",
   "metadata": {},
   "outputs": [],
   "source": [
    "# Resume\n",
    "os.startfile(r\"C:\\Users\\kiahj\\OneDrive\\Desktop\\Luminum ICT - CV ENG - Kiah Jane Jones - Transcom.docx\")"
   ]
  },
  {
   "cell_type": "code",
   "execution_count": 19,
   "id": "b3d1997f-a9cb-4fa1-b12a-55a9c2b6903d",
   "metadata": {},
   "outputs": [
    {
     "data": {
      "text/plain": [
       "True"
      ]
     },
     "execution_count": 19,
     "metadata": {},
     "output_type": "execute_result"
    }
   ],
   "source": [
    "# Output\n",
    "webbrowser.open('https://chat.openai.com/c/adcf4fab-ea99-461d-8112-2a730bb1a45a')"
   ]
  },
  {
   "cell_type": "markdown",
   "id": "df839f88-fb8f-456c-b196-4f87ec5486ce",
   "metadata": {},
   "source": [
    "##### Run"
   ]
  },
  {
   "cell_type": "code",
   "execution_count": 11,
   "id": "7f62be79-fc07-4fa2-8bd6-33c2ad281667",
   "metadata": {
    "collapsed": true,
    "jupyter": {
     "outputs_hidden": true
    }
   },
   "outputs": [
    {
     "name": "stdout",
     "output_type": "stream",
     "text": [
      "What is your current profession or career field? \n",
      "     Enter 'END' on a new line when you are finished:\n"
     ]
    },
    {
     "name": "stdout",
     "output_type": "stream",
     "text": [
      " Data Science\n",
      " END\n"
     ]
    },
    {
     "name": "stdout",
     "output_type": "stream",
     "text": [
      "How many years of professional experience do you have? \n",
      "     Enter 'END' on a new line when you are finished:\n"
     ]
    },
    {
     "name": "stdout",
     "output_type": "stream",
     "text": [
      " 2\n",
      " END\n"
     ]
    },
    {
     "name": "stdout",
     "output_type": "stream",
     "text": [
      "What is the job position title you are interested in applying for? \n",
      "     Enter 'END' on a new line when you are finished:\n"
     ]
    },
    {
     "name": "stdout",
     "output_type": "stream",
     "text": [
      " Data Engineer\n",
      " END\n"
     ]
    },
    {
     "name": "stdout",
     "output_type": "stream",
     "text": [
      "Please paste the entire job description into the terminal: \n",
      "     Enter 'END' on a new line when you are finished:\n"
     ]
    },
    {
     "name": "stdout",
     "output_type": "stream",
     "text": [
      " Job description We are the voice of our clients. Equipped with intelligent technology, we are a global network of local specialists ambitious about making things work. We continuously evolve to be one step ahead by anticipating the newest technology and trends to improve the customer experience from reactive troubleshooting to active solution-finding. It is what we call Smarter People Experiences. We are 27,000 customer experience specialists at 50 contact centers and a large network of home agents, delivering services to international brands in various industries across 20 countries in 33 languages. We are TRANSCOM!      Join us as a Data Engineer!  Taking ownership over the external-facing data pipelines that are integral to our success  Optimizing our offerings for efficiency and reliability at scale  Identifying areas of architectural improvement to remove the potential for human error  Collaborating with product and engineering teams to create innovative solutions to challenging problems  Building out a testing framework to ensure uptime and reliability of data pipelines  Understanding the analytics data we collect from our systems and how it relates to the business value being produced     What’s in it for YOU!  Career opportunities - growth within the company, both horizontal and vertical Personal and professional development: conferences, training, and coaching on the job Winning atmosphere and supportive team - we strive for collaborative, informal vibes with a focus on getting things done Opportunity to be innovative and pitch your own ideas Freedom in execution and forming of the organization Multicultural communication and best practice sharing A minimum of 23 vacation days (growing with tenure and parent status) Free parking space 100% covered Multisport card or Moontop benefit system Additional health insurance Christmas and Easter bonus Team buildings Education budget set in each department Personalised development plan   Job requirements .What we are looking for:  Degree in Computer Science or related fields  SQL knowledge is a must, as well as other programming languages such as (Python, Java, etc)  Experience in Cloud environments, especially Google Cloud Platform  Demonstrated experience with Apache Airflow and Apache Beam SDK are nice to have  Experience with serverless databases, such as Google BigQuery  Exposure to traditional ETL tools like SAP Data Services  REST API development experience  Extended experience with different relational and columnar databases  Experience with visualization tools (Business Objects, Looker, Tableau, others) is nice to have  Development practice following Agile methodology  Self-organized and responsible for task delivery, guaranteeing excellent quality, as well as delivery respecting deadlines  Superb problem-solving skills, with an analytical and data-driven mindset  Excellent communication skills and a team player attitude  Ability to work in a geographically and culturally diverse environment  Ability to meet deadlines and work under pressure  Ability to travel abroad if required and occasional off-hours availability  Fluency in English is a must (both written and spoken). Other languages are a plus   Personality profile:  You don’t like leaving questions unanswered and you love exploring/understanding data  You have relevant experience in creating pipelines for large data sets  You are passionate about crafting clean code and have a steady foundation in coding and building data pipelines (especially in Python)  You love to be the bridge between engineering and analysis to have an impact on the product  You are interested in optimizing workflows and maintaining backend systems  You seek to participate in continuous improvement efforts such as software development, planning, estimating, developing, testing      What Life at Transcom is like! Transcom Worldwide is one of the leading global customer experience companies, supplying local and global clients in multiple markets within our global footprint with forward-leaning customer experience solutions via different channels like voice, chat, social media etc. We are 30,000 customer experience specialists at 69 offices across 26 countries, delivering services in 33 languages to international brands in various industry verticals. At Transcom, we’re relentlessly committed. To our clients and each other. Every day, someone starts their journey with Transcom. Taking the potential they have today, and turning it into skills for the future. Getting recognized for working hard, being a team player, and supporting others. Championing positive, lasting change in their teams and communities. That’s just how we are at Transcom. Here we care, and root for each other. You’re included, just as you are, from day one. And with the right mindset, there’s no end to how far we can go together.   At Transcom, we follow our Values to a T, we live them, we breathe them, it is what we base our day to day work life on (and it is not just an empty promise, ask anyone).  We’re here to support  We keep our promises  We come as we are  We’re team players  We’re lifelong learners    We’re sure you loved everything you’ve read and heard, and would definitely love to learn more. In that case, apply, come talk to us, we are an open book. You will get all the nitty-gritty details, no hidden agendas, no false promises. What you hear/see, is what you get.\n",
      " END\n"
     ]
    },
    {
     "name": "stdout",
     "output_type": "stream",
     "text": [
      "Please paste the entire about page into the terminal: \n",
      "     Enter 'END' on a new line when you are finished:\n"
     ]
    },
    {
     "name": "stdout",
     "output_type": "stream",
     "text": [
      "  Industries Services About us Locations Insights Careers Global Contact us WHO WE ARE ffgh Relentlessly committed to your ambition. We’re CX fanatics, as passionate about our clients as their fans are. It’s why the most-loved brands in the world rely on us. You'll find us behind the brilliance of disruptive e-commerce players, category redefining fintechs, technology legends, and more. Talk to us   Big ideas, brought to life. Back in 1995, Swedish investment company Kinnevik had a vision of founding a global customer service provider with big ambitions and brilliant clients. That's how Transcom was born. Within a decade, we expanded across Europe and soon after, kicked off work-at-home operations in North America, followed by business in the US, Canada and the Philippines. What made it possible? For one, a nimble attitude towards on, off, and nearshoring, which we call smartshoring. For another, endless curiosity, embracing cultures, and relentless commitment to our clients' success.  Read more about smartshoring —   Powered by people. When you're relentlessly committed to clients, you need people who share your passion. That means not only attracting top talent and helping them grow their careers, but creating connections with every community you join. When it comes to people, our policy is open doors. Brilliant futures. Strong roots. So that we can build the brilliance together, as a team.  Read more about life at Transcom —   Your digital demands, met. Transcom clients know digital excellence when they see it. Particularly when that innovation drives their brands forward, customer satisfaction up and operating costs down. We see the opportunity in every chat, call, word and script. To use our digital solutions and tech to make a difference, make things even better, and bring your ambitions to life in new and exciting ways.  Read more about our digital solutions —  techstyleos logo  getyourguide logo  cgi  paypal  whirlpool Some of the brilliant brands we're behind. The people behind the brilliance. Our people are our greatest strength. Ambitious, committed, savvy, and always looking for the best way to make sure the work gets done. Transcom people grow as much as they want. Go as far as they can. They work with the world’s most beloved brands from day one. And we make sure we're here for them, creating brilliant futures as we go.  red blouse guy walking woman talking on the phone  people Get behind the brilliance. When people join the Transcom team, doors open. Working with the world's most exciting brands, always learning and growing, connecting with their communities. We create brilliant futures - ready for the taking. Ready for you.  Read more about careers at Transcom — Some quick facts.  # Company facts Company facts Founded: 1995  Global headquarters: Stockholm, Sweden  President & CEO: Jonas Dahlberg  Ownership: Transcom is a privately owned company. Altor Fund IV is the majority owner, alongside significant minority investor Gunilla von Platen, as well as key people from the Transcom management team.   # Financial facts  # Global reach  # Market & services  # Recognitions Xzakt and Awesome OS are part of the Transcom family.   Awesome OS Awesome OS is a next-generation business services outsourcing company that enables the most prominent startups and e-commerce companies to deliver unprecedented levels of performance and customer delight.  Awesome OS provides best-in-class customer service operations, back-office support, web/software development, and graphic design services that empower companies to prioritize their core functions. Acquired by Transcom in 2018, Awesome OS is a part of the Transcom WorldWide family.    Xzakt Xzakt is one of the leading companies in outsourced customer service in Scandinavia. With over 20 years of experience, we offer world-class services to some of the most exciting companies in the Nordic region. We have over 300 customer-obsessed employees and deliver our services from sites in Gävle, Skellefteå, Eskilstuna, and Malaga. We have a unique operating model that works really well with fast-growing tech & e-com companies supporting them with smart, flexible, and high-quality solutions for their customer service. Founded by Gunilla von Platen in 2001 and acquired by Altor in 2017, today Xzakt is a part of the Transcom Worldwide family.  Let's start something brilliant. Get in touch Transcom ©2023 Privacy — Terms Industries E-commerce & Tech Services & Utilities Telecom, Cable & Broadband operators Startup & Scaleup Services CX services Digital solutions Transformation solutions Smartshoring services Careers Locations T:Life Job openings About us Who we are Company leadership Investor relations Sustainability Contact us Follow Us\n",
      " END\n"
     ]
    },
    {
     "name": "stdout",
     "output_type": "stream",
     "text": [
      "Please paste your entire resume into the terminal: \n",
      "     Enter 'END' on a new line when you are finished:\n"
     ]
    },
    {
     "name": "stdout",
     "output_type": "stream",
     "text": [
      " Kiah Jane Jones Junior Software Engineer | Data Scientist  Professional Summary Kiah Jane Jones is a devoted software engineer and data scientist embodying a blend of organizational brilliance and analytical prowess. Her code and working style are reflections of meticulous organization, ensuring a smooth, efficient workflow and clear, maintainable code. Kiah's approach is both analytical and creative, allowing for innovative solutions that are both logically sound and outside the conventional box.  In addition to her technical acumen, Kiah brings strong collaborative and communication skills to the table, fortified by proficiency in several European languages. This multicultural linguistic ability enhances her capacity to thrive in diverse team environments, facilitating effective and inclusive communication strategies. Armed with these qualities, Kiah is primed to contribute innovative data engineering solutions and vibrant team dynamics to Transcom, enhancing project outcomes and team synergy.  Key Skills Java Software Engineer Experience: \t< 6 months Technology: \tJava, React Summary: \tDeveloping, testing and maintaining software applications written in Java and React.  Data Scientist Experience: \t2 years Technology: \tPython, R, SQL, Data Analysis & Visualization, Machine Learning, ETL, EDA, OCR, Computer Vision Summary: \tKiah has meaningful experience in fields of data science and machine learning.  Other Skills SQL, Python, R, Statistics, TensorFlow, Git, Jira, VBScript, MS PowerBI, Flask, RabbitMQ, Pandas, OpenCV  Professional Experience Employment record  Period:\tEmployer:\tPosition: 01/2023 - present\tLuminum ICT d.o.o.\tJava Software Engineer 10/2021 – 12/2022\tRobotiq.ai\tData Scientist 09/2020 – 10/2021\tFreelance\tData Analyst Projects and project activities  ERV – Junior Software Engineer – Luminum ICT Industry: Human Resources Date(s): September 2022 – current Summary: Contributed to backend software development, emphasizing learning, resolving non-critical bugs, and software testing in a project focused on employee performance monitoring. Technology: Java, React, Spring Boot, Maven, SQL, jUnit, Git Contribution:  •\tBackend software development •\tUnit testing, manual testing •\tMeeting participations and discussions  Python Code Transcription into Microsoft Power Automate – Data Scientist – Intelligent Solutions Industry: Business Intelligence Date(s): September 2023 – November 2023 Summary: Led the creation of a POC Python program that reads and converts various actions in Python code into MS Power Automate workflows syntax, utilizing a blend of tools such as regex expressions and VBScript, tailored to the specific Python file being transcribed. Technology: Python, Regex Expressions, AST, VBScript, MS Power Automate Contribution:  •\tEngineered program for accurate Python code conversion to MS Power Automate syntax. •\tManaged and effectively scheduled project timelines and milestones. •\tDeveloped robust VBScript code to improve operational efficiency of middle management tasks.  Financial Fraud Prevention – Data Analyst – Deustche Bank (in collaboration with PwC) Industry: Banking & Finance Date(s): March 2023 – August 2023 Summary: Conducted entirely in German, aimed at combating financial fraud and preventing terrorist activities through enhanced financial scrutiny. Entrusted with sensitive data from Deutsche Bank and PostBank, innovative data analysis processes were optimized, ensuring that project objectives were consistently met and surpassed amidst substantial corporate pressure. Technology: NOS, SAP, Internal Deutsche Bank Software, SharePoint, Excel Contribution:  •\tManaged and analyzed sensitive data •\tOptimized processes for improved efficiency and productivity •\tCollaborated globally, enhancing multicultural team interaction •\tApplied expertise in financial fraud detection and prevention strategies  User Intent Detection – Junior Data Scientist – Robotiq.AI Industry: Research & Development Date(s): October 2021 – December 2022 Summary: Spearheaded the development of a computer vision solution, managing all aspects of the project from data generation to algorithm creation and ML model training, significantly improving user interface experiences. Technology: Python, TensorFlow, OpenCV, Pillow, RabbitMQ, Flask, Pandas Contribution:  •\tProject organization / documentation •\tProblem & solution definition •\tData lifecycle, Algorithm creation & ML model training •\tStudent mentoring  User Intent Detection –Data Analyst – Freelance Industry: Research & Development Date(s): September 2020 - October 2021  Summary: Engaged in various freelance projects, focusing on data analysis and providing insights to drive decision-making and optimize processes. Technology: Python, Jupyter, R, SPSS, EDA Contribution:  •\tStatistical analysis •\tData visualization & presentation  Education  Bachelor of Arts, Regensburg University  Languages  English – mother tongue Croatian – fluently  German - fluently French – fluently\n",
      " END\n"
     ]
    },
    {
     "name": "stdout",
     "output_type": "stream",
     "text": [
      "Please paste an output example into the terminal: \n",
      "     Enter 'END' on a new line when you are finished:\n"
     ]
    },
    {
     "name": "stdout",
     "output_type": "stream",
     "text": [
      " Perfect, thank you for sharing your resume. Based on the information provided, I will craft a cover letter and then tailor your resume to align better with the Data Engineer position at Transcom.  ---  ### Cover Letter  [Your Address]   [City, State, Zip]   [Your Email]   [Your Phone Number]   [Date]  Hiring Manager   Transcom   [Company’s Address]   [City, State, Zip]  Dear Hiring Manager,  I am writing to express my interest in the Data Engineer position at Transcom, a renowned global customer service provider known for its relentless commitment to innovation and excellence. With my background as a Data Scientist and Software Engineer, accompanied by a rich blend of skills in data lifecycle management, machine learning, and software development, I am enthusiastic about the opportunity to contribute to Transcom's mission of delivering smarter people experiences through cutting-edge technological solutions.  Your commitment to driving brands forward with digital excellence and innovation resonates with my professional journey. I bring a comprehensive understanding of data, from problem identification to solution definition and implementation, honed through various roles, including a Data Scientist position at Robotiq.ai. Here, I spearheaded a project where I developed algorithmic computer vision solutions, managing the entire project flow and ensuring the delivery of impactful, user-centric solutions.  What excites me about this opportunity at Transcom is the ability to be at the forefront of technological advancements, optimizing workflows, and actively participating in continuous improvement efforts, ultimately enhancing customer experiences. Your value for a multicultural and supportive team aligns seamlessly with my proficiency in multiple European languages and my collaborative and adaptive work style, making me a fitting addition to your diverse team.  I am particularly drawn to Transcom’s values of support, integrity, and continuous learning. I appreciate your inclusive culture and the emphasis on creating brilliant futures, and I am eager to contribute my analytical acumen, problem-solving skills, and passion for data engineering towards meaningful impact at Transcom.  I am looking forward to the opportunity to discuss how my skills and experiences align with Transcom’s needs and how we can collaboratively drive success in your esteemed organization. Thank you for considering my application.  Warm regards,  Kiah Jane Jones  ---  ### Tailored Resume  ## Kiah Jane Jones Junior Software Engineer | Data Scientist   [Your Email] | [Your Phone Number]    ### Professional Summary Passionate and versatile professional with experience in data science and software engineering. Skilled in managing the entire data lifecycle, from problem identification to solution implementation, with a focus on enhancing operational efficiencies and user experiences. Strong collaborative and communication skills, coupled with a multicultural linguistic proficiency, ready to contribute towards innovative data engineering solutions at Transcom.  ### Key Skills - **Data Engineering**: SQL, Python, R, ETL - **Software Development**: Java, React - **Data Science**: Machine Learning, Data Analysis & Visualization - **Collaboration Tools**: Git, Jira - **Languages**: Fluent in English, Croatian, German, and French  ### Professional Experience  #### Luminum ICT d.o.o. _Java Software Engineer, January 2023 - present_ - Contributed to backend software development, emphasizing learning, resolving non-critical bugs, and software testing in a project focused on employee performance monitoring.  #### Robotiq.ai _Data Scientist, October 2021 – December 2022_ - Spearheaded the development of a computer vision solution, managing all aspects of the project from data generation to algorithm creation and ML model training, significantly improving user interface experiences.  #### Freelance _Data Analyst, September 2020 – October 2021_ - Engaged in various freelance projects, focusing on data analysis and providing insights to drive decision-making and optimize processes.  ### Education _Bachelor of Arts_, Regensburg University  ---  This cover letter and resume are tailored to emphasize the skills and experiences that align with Transcom's values and the job description for the Data Engineer position, aiming to demonstrate your fit and enthusiasm for the role. Remember to customize the [Your Address], [City, State, Zip], [Your Email], and [Your Phone Number] fields before sending the application. Good luck!\n",
      " END\n"
     ]
    },
    {
     "name": "stdout",
     "output_type": "stream",
     "text": [
      "Token String-Integer Pairs:\n",
      " [b'2', b' years', b' Data', b' Science', b' experience', b' various', b' projects', b' recently', b' found', b' Data', b' Engineer', b' job', b' posting', b' LinkedIn', b' .', b' task', b' :', b' ', b'1', b'.', b' Review', b' job', b' description', b' ,', b' company', b\" '\", b's', b' page', b' ,', b' resume', b' .', b' ', b'2', b' .', b' Craft', b' ', b'1', b'-page', b' cover', b' letter', b' application', b' ,', b' utilizing', b' provided', b' texts', b' .', b' ', b'3', b' .', b' Tail', b'or', b' resume', b' align', b' closely', b' company', b' position', b' ,', b' leveraging', b' experience', b' strengths', b' .', b' ', b'4', b' .', b' Return', b' data', b' JSON', b' format', b' keys', b' ``', b' cover', b'_le', b'ter', b\" ''\", b' ``', b' resume', b\" ''\", b' ,', b' values', b' one', b' string', b' contains', b' outputs', b' steps', b' ', b'2', b' ', b'3', b' .', b' Shall', b' begin', b' ?', b' following', b' job', b' posting', b' :', b' Job', b' description', b' voice', b' clients', b' .', b' Equ', b'ipped', b' intelligent', b' technology', b' ,', b' global', b' network', b' local', b' specialists', b' ambitious', b' making', b' things', b' work', b' .', b' continuously', b' evolve', b' one', b' step', b' ahead', b' anticipating', b' newest', b' technology', b' trends', b' improve', b' customer', b' experience', b' reactive', b' troubleshooting', b' active', b' solution', b'-f', b'inding', b' .', b' call', b' Sm', b'arter', b' People', b' Ex', b'periences', b' .', b' ', b'27', b',', b'000', b' customer', b' experience', b' specialists', b' ', b'50', b' contact', b' centers', b' large', b' network', b' home', b' agents', b' ,', b' delivering', b' services', b' international', b' brands', b' various', b' industries', b' across', b' ', b'20', b' countries', b' ', b'33', b' languages', b' .', b' TRAN', b'SC', b'OM', b' !', b' Join', b' us', b' Data', b' Engineer', b' !', b' Taking', b' ownership', b' external', b'-facing', b' data', b' pipelines', b' integral', b' success', b' Optim', b'izing', b' offerings', b' efficiency', b' reliability', b' scale', b' Ident', b'ifying', b' areas', b' architectural', b' improvement', b' remove', b' potential', b' human', b' error', b' Collabor', b'ating', b' product', b' engineering', b' teams', b' create', b' innovative', b' solutions', b' challenging', b' problems', b' Building', b' testing', b' framework', b' ensure', b' uptime', b' reliability', b' data', b' pipelines', b' Understanding', b' analytics', b' data', b' collect', b' systems', b' relates', b' business', b' value', b' produced', b' ', b' !', b' Career', b' opportunities', b' -', b' growth', b' within', b' company', b' ,', b' horizontal', b' vertical', b' Personal', b' professional', b' development', b' :', b' conferences', b' ,', b' training', b' ,', b' coaching', b' job', b' Winning', b' atmosphere', b' supportive', b' team', b' -', b' strive', b' collaborative', b' ,', b' informal', b' vibes', b' focus', b' getting', b' things', b' done', b' Opportunity', b' innovative', b' pitch', b' ideas', b' Freedom', b' execution', b' forming', b' organization', b' Mult', b'icultural', b' communication', b' best', b' practice', b' sharing', b' minimum', b' ', b'23', b' vacation', b' days', b' (', b' growing', b' tenure', b' parent', b' status', b' )', b' Free', b' parking', b' space', b' ', b'100', b' %', b' covered', b' Mult', b'is', b'port', b' card', b' Mo', b'ont', b'op', b' benefit', b' system', b' Additional', b' health', b' insurance', b' Christmas', b' Easter', b' bonus', b' Team', b' buildings', b' Education', b' budget', b' set', b' department', b' Personal', b'ised', b' development', b' plan', b' Job', b' requirements', b' .', b'What', b' looking', b' :', b' Degree', b' Computer', b' Science', b' related', b' fields', b' SQL', b' knowledge', b' must', b' ,', b' well', b' programming', b' languages', b' (', b' Python', b' ,', b' Java', b' ,', b' etc', b' )', b' Experience', b' Cloud', b' environments', b' ,', b' especially', b' Google', b' Cloud', b' Platform', b' Demonstr', b'ated', b' experience', b' Apache', b' Air', b'flow', b' Apache', b' Beam', b' SDK', b' nice', b' Experience', b' server', b'less', b' databases', b' ,', b' Google', b' Big', b'Query', b' Exposure', b' traditional', b' E', b'TL', b' tools', b' like', b' SAP', b' Data', b' Services', b' REST', b' API', b' development', b' experience', b' Extended', b' experience', b' different', b' relational', b' column', b'ar', b' databases', b' Experience', b' visualization', b' tools', b' (', b' Business', b' Objects', b' ,', b' Look', b'er', b' ,', b' Table', b'au', b' ,', b' others', b' )', b' nice', b' Development', b' practice', b' following', b' Agile', b' methodology', b' Self', b'-', b'organized', b' responsible', b' task', b' delivery', b' ,', b' guarantee', b'ing', b' excellent', b' quality', b' ,', b' well', b' delivery', b' respecting', b' deadlines', b' Super', b'b', b' problem', b'-solving', b' skills', b' ,', b' analytical', b' data', b'-driven', b' mindset', b' Excellent', b' communication', b' skills', b' team', b' player', b' attitude', b' Ability', b' work', b' ge', b'ographically', b' culturally', b' diverse', b' environment', b' Ability', b' meet', b' deadlines', b' work', b' pressure', b' Ability', b' travel', b' abroad', b' required', b' occasional', b' off', b'-hours', b' availability', b' Flu', b'ency', b' English', b' must', b' (', b' written', b' spoken', b' )', b' .', b' languages', b' plus', b' Personality', b' profile', b' :', b' ', b' like', b' leaving', b' questions', b' unanswered', b' love', b' exploring', b'/', b'under', b'standing', b' data', b' relevant', b' experience', b' creating', b' pipelines', b' large', b' data', b' sets', b' passionate', b' crafting', b' clean', b' code', b' steady', b' foundation', b' coding', b' building', b' data', b' pipelines', b' (', b' especially', b' Python', b' )', b' love', b' bridge', b' engineering', b' analysis', b' impact', b' product', b' interested', b' optimizing', b' workflows', b' maintaining', b' backend', b' systems', b' seek', b' participate', b' continuous', b' improvement', b' efforts', b' software', b' development', b' ,', b' planning', b' ,', b' estimating', b' ,', b' developing', b' ,', b' testing', b' Life', b' Trans', b'com', b' like', b' !', b' Trans', b'com', b' Worldwide', b' one', b' leading', b' global', b' customer', b' experience', b' companies', b' ,', b' supplying', b' local', b' global', b' clients', b' multiple', b' markets', b' within', b' global', b' footprint', b' forward', b'-leaning', b' customer', b' experience', b' solutions', b' via', b' different', b' channels', b' like', b' voice', b' ,', b' chat', b' ,', b' social', b' media', b' etc', b' .', b' ', b'30', b',', b'000', b' customer', b' experience', b' specialists', b' ', b'69', b' offices', b' across', b' ', b'26', b' countries', b' ,', b' delivering', b' services', b' ', b'33', b' languages', b' international', b' brands', b' various', b' industry', b' vertical', b's', b' .', b' Trans', b'com', b' ,', b' ', b' relentlessly', b' committed', b' .', b' clients', b' .', b' Every', b' day', b' ,', b' someone', b' starts', b' journey', b' Trans', b'com', b' .', b' Taking', b' potential', b' today', b' ,', b' turning', b' skills', b' future', b' .', b' Getting', b' recognized', b' working', b' hard', b' ,', b' team', b' player', b' ,', b' supporting', b' others', b' .', b' Champion', b'ing', b' positive', b' ,', b' lasting', b' change', b' teams', b' communities', b' .', b' ', b' Trans', b'com', b' .', b' care', b' ,', b' root', b' .', b' ', b' included', b' ,', b' ,', b' day', b' one', b' .', b' right', b' mindset', b' ,', b' ', b' end', b' far', b' go', b' together', b' .', b' Trans', b'com', b' ,', b' follow', b' Values', b' ,', b' live', b' ,', b' breathe', b' ,', b' base', b' day', b' day', b' work', b' life', b' (', b' empty', b' promise', b' ,', b' ask', b' anyone', b' )', b' .', b' ', b' support', b' keep', b' promises', b' come', b' ', b' team', b' players', b' ', b' lifelong', b' learners', b' ', b' sure', b' loved', b' everything', b' ', b' read', b' heard', b' ,', b' would', b' definitely', b' love', b' learn', b' .', b' case', b' ,', b' apply', b' ,', b' come', b' talk', b' us', b' ,', b' open', b' book', b' .', b' get', b' n', b'itty', b'-gr', b'itty', b' details', b' ,', b' hidden', b' agendas', b' ,', b' false', b' promises', b' .', b' hear', b'/', b'see', b' ,', b' get', b' .', b' following', b' company', b\" '\", b's', b' page', b' :', b' Industries', b' Services', b' us', b' Locations', b' Insights', b' Careers', b' Global', b' Contact', b' us', b' ff', b'gh', b' Rel', b'ent', b'lessly', b' committed', b' ambition', b' .', b' ', b' CX', b' fan', b'atics', b' ,', b' passionate', b' clients', b' fans', b' .', b' ', b' most', b'-lo', b'ved', b' brands', b' world', b' rely', b' us', b' .', b\" '\", b'll', b' find', b' us', b' behind', b' brilliance', b' disruptive', b' e', b'-commerce', b' players', b' ,', b' category', b' re', b'def', b'ining', b' fint', b'ech', b's', b' ,', b' technology', b' legends', b' ,', b' .', b' Talk', b' us', b' Big', b' ideas', b' ,', b' brought', b' life', b' .', b' Back', b' ', b'199', b'5', b' ,', b' Swedish', b' investment', b' company', b' Kin', b'ne', b'vik', b' vision', b' founding', b' global', b' customer', b' service', b' provider', b' big', b' ambitions', b' brilliant', b' clients', b' .', b\" '\", b's', b' Trans', b'com', b' born', b' .', b' Within', b' decade', b' ,', b' expanded', b' across', b' Europe', b' soon', b' ,', b' kicked', b' work', b'-at', b'-home', b' operations', b' North', b' America', b' ,', b' followed', b' business', b' US', b' ,', b' Canada', b' Philippines', b' .', b' made', b' possible', b' ?', b' one', b' ,', b' nim', b'ble', b' attitude', b' towards', b' ,', b' ,', b' near', b'sh', b'oring', b' ,', b' call', b' smart', b'sh', b'oring', b' .', b' another', b' ,', b' endless', b' curiosity', b' ,', b' embracing', b' cultures', b' ,', b' relentless', b' commitment', b' clients', b\" '\", b' success', b' .', b' Read', b' smart', b'sh', b'oring', b' ', b' Powered', b' people', b' .', b\" '\", b're', b' relentlessly', b' committed', b' clients', b' ,', b' need', b' people', b' share', b' passion', b' .', b' means', b' attracting', b' top', b' talent', b' helping', b' grow', b' careers', b' ,', b' creating', b' connections', b' every', b' community', b' join', b' .', b' comes', b' people', b' ,', b' policy', b' open', b' doors', b' .', b' Brilliant', b' futures', b' .', b' Strong', b' roots', b' .', b' build', b' brilliance', b' together', b' ,', b' team', b' .', b' Read', b' life', b' Trans', b'com', b' ', b' digital', b' demands', b' ,', b' met', b' .', b' Trans', b'com', b' clients', b' know', b' digital', b' excellence', b' see', b' .', b' Particularly', b' innovation', b' drives', b' brands', b' forward', b' ,', b' customer', b' satisfaction', b' operating', b' costs', b' .', b' see', b' opportunity', b' every', b' chat', b' ,', b' call', b' ,', b' word', b' script', b' .', b' use', b' digital', b' solutions', b' tech', b' make', b' difference', b' ,', b' make', b' things', b' even', b' better', b' ,', b' bring', b' ambitions', b' life', b' new', b' exciting', b' ways', b' .', b' Read', b' digital', b' solutions', b' ', b' tech', b'style', b'os', b' logo', b' get', b'your', b'guide', b' logo', b' cgi', b' paypal', b' whirl', b'pool', b' brilliant', b' brands', b\" '\", b're', b' behind', b' .', b' people', b' behind', b' brilliance', b' .', b' people', b' greatest', b' strength', b' .', b' Amb', b'itious', b' ,', b' committed', b' ,', b' savvy', b' ,', b' always', b' looking', b' best', b' way', b' make', b' sure', b' work', b' gets', b' done', b' .', b' Trans', b'com', b' people', b' grow', b' much', b' want', b' .', b' Go', b' far', b' .', b' work', b' world', b' ', b' beloved', b' brands', b' day', b' one', b' .', b' make', b' sure', b\" '\", b're', b' ,', b' creating', b' brilliant', b' futures', b' go', b' .', b' red', b' blouse', b' guy', b' walking', b' woman', b' talking', b' phone', b' people', b' Get', b' behind', b' brilliance', b' .', b' people', b' join', b' Trans', b'com', b' team', b' ,', b' doors', b' open', b' .', b' Working', b' world', b\" '\", b's', b' exciting', b' brands', b' ,', b' always', b' learning', b' growing', b' ,', b' connecting', b' communities', b' .', b' create', b' brilliant', b' futures', b' -', b' ready', b' taking', b' .', b' Ready', b' .', b' Read', b' careers', b' Trans', b'com', b' ', b' quick', b' facts', b' .', b' #', b' Company', b' facts', b' Company', b' facts', b' Founded', b' :', b' ', b'199', b'5', b' Global', b' headquarters', b' :', b' Stockholm', b' ,', b' Sweden', b' President', b' &', b' CEO', b' :', b' Jonas', b' Dahl', b'berg', b' Ownership', b' :', b' Trans', b'com', b' privately', b' owned', b' company', b' .', b' Al', b'tor', b' Fund', b' IV', b' majority', b' owner', b' ,', b' alongside', b' significant', b' minority', b' investor', b' Gun', b'illa', b' von', b' Pl', b'aten', b' ,', b' well', b' key', b' people', b' Trans', b'com', b' management', b' team', b' .', b' #', b' Financial', b' facts', b' #', b' Global', b' reach', b' #', b' Market', b' &', b' services', b' #', b' Recogn', b'itions', b' X', b'z', b'akt', b' Awesome', b' OS', b' part', b' Trans', b'com', b' family', b' .', b' Awesome', b' OS', b' Awesome', b' OS', b' next', b'-generation', b' business', b' services', b' outsourcing', b' company', b' enables', b' prominent', b' startups', b' e', b'-commerce', b' companies', b' deliver', b' unprecedented', b' levels', b' performance', b' customer', b' delight', b' .', b' Awesome', b' OS', b' provides', b' best', b'-in', b'-class', b' customer', b' service', b' operations', b' ,', b' back', b'-office', b' support', b' ,', b' web', b'/software', b' development', b' ,', b' graphic', b' design', b' services', b' empower', b' companies', b' prioritize', b' core', b' functions', b' .', b' Ac', b'quired', b' Trans', b'com', b' ', b'201', b'8', b' ,', b' Awesome', b' OS', b' part', b' Trans', b'com', b' World', b'Wide', b' family', b' .', b' X', b'z', b'akt', b' X', b'z', b'akt', b' one', b' leading', b' companies', b' outs', b'ourced', b' customer', b' service', b' Scandin', b'avia', b' .', b' ', b'20', b' years', b' experience', b' ,', b' offer', b' world', b'-class', b' services', b' exciting', b' companies', b' Nordic', b' region', b' .', b' ', b'300', b' customer', b'-', b'obs', b'essed', b' employees', b' deliver', b' services', b' sites', b' G', b'v', b'le', b' ,', b' Sk', b'elle', b'fte', b' ,', b' Esk', b'ilst', b'una', b' ,', b' Mal', b'aga', b' .', b' unique', b' operating', b' model', b' works', b' really', b' well', b' fast', b'-growing', b' tech', b' &', b' e', b'-com', b' companies', b' supporting', b' smart', b' ,', b' flexible', b' ,', b' high', b'-quality', b' solutions', b' customer', b' service', b' .', b' Founded', b' Gun', b'illa', b' von', b' Pl', b'aten', b' ', b'200', b'1', b' acquired', b' Al', b'tor', b' ', b'201', b'7', b' ,', b' today', b' X', b'z', b'akt', b' part', b' Trans', b'com', b' Worldwide', b' family', b' .', b' Let', b\" '\", b's', b' start', b' something', b' brilliant', b' .', b' Get', b' touch', b' Trans', b'com', b' ', b'202', b'3', b' Privacy', b' ', b' Terms', b' Industries', b' E', b'-commerce', b' &', b' Tech', b' Services', b' &', b' Utilities', b' Telecom', b' ,', b' Cable', b' &', b' Broad', b'band', b' operators', b' Startup', b' &', b' Scale', b'up', b' Services', b' CX', b' services', b' Digital', b' solutions', b' Transformation', b' solutions', b' Smart', b'sh', b'oring', b' services', b' Careers', b' Locations', b' :', b' Life', b' Job', b' openings', b' us', b' Company', b' leadership', b' Investor', b' relations', b' Sustainability', b' Contact', b' us', b' Follow', b' Us', b' following', b' current', b' resume', b' :', b' K', b'iah', b' Jane', b' Jones', b' Junior', b' Software', b' Engineer', b' |', b' Data', b' Scientist', b' Professional', b' Summary', b' K', b'iah', b' Jane', b' Jones', b' devoted', b' software', b' engineer', b' data', b' scientist', b' embody', b'ing', b' blend', b' organizational', b' brilliance', b' analytical', b' prowess', b' .', b' code', b' working', b' style', b' reflections', b' meticulous', b' organization', b' ,', b' ensuring', b' smooth', b' ,', b' efficient', b' workflow', b' clear', b' ,', b' maintain', b'able', b' code', b' .', b' K', b'iah', b\" '\", b's', b' approach', b' analytical', b' creative', b' ,', b' allowing', b' innovative', b' solutions', b' logically', b' sound', b' outside', b' conventional', b' box', b' .', b' addition', b' technical', b' ac', b'umen', b' ,', b' K', b'iah', b' brings', b' strong', b' collaborative', b' communication', b' skills', b' table', b' ,', b' fortified', b' proficiency', b' several', b' European', b' languages', b' .', b' multicultural', b' linguistic', b' ability', b' enhances', b' capacity', b' thrive', b' diverse', b' team', b' environments', b' ,', b' facilitating', b' effective', b' inclusive', b' communication', b' strategies', b' .', b' Armed', b' qualities', b' ,', b' K', b'iah', b' prim', b'ed', b' contribute', b' innovative', b' data', b' engineering', b' solutions', b' vibrant', b' team', b' dynamics', b' Trans', b'com', b' ,', b' enhancing', b' project', b' outcomes', b' team', b' synergy', b' .', b' Key', b' Skills', b' Java', b' Software', b' Engineer', b' Experience', b' :', b' <', b' ', b'6', b' months', b' Technology', b' :', b' Java', b' ,', b' React', b' Summary', b' :', b' Developing', b' ,', b' testing', b' maintaining', b' software', b' applications', b' written', b' Java', b' React', b' .', b' Data', b' Scientist', b' Experience', b' :', b' ', b'2', b' years', b' Technology', b' :', b' Python', b' ,', b' R', b' ,', b' SQL', b' ,', b' Data', b' Analysis', b' &', b' Visualization', b' ,', b' Machine', b' Learning', b' ,', b' E', b'TL', b' ,', b' E', b'DA', b' ,', b' OCR', b' ,', b' Computer', b' Vision', b' Summary', b' :', b' K', b'iah', b' meaningful', b' experience', b' fields', b' data', b' science', b' machine', b' learning', b' .', b' Skills', b' SQL', b' ,', b' Python', b' ,', b' R', b' ,', b' Statistics', b' ,', b' TensorFlow', b' ,', b' Git', b' ,', b' J', b'ira', b' ,', b' VB', b'Script', b' ,', b' MS', b' Power', b'BI', b' ,', b' Flask', b' ,', b' Rabbit', b'MQ', b' ,', b' Pand', b'as', b' ,', b' Open', b'CV', b' Professional', b' Experience', b' Employment', b' record', b' Period', b' :', b' Employer', b' :', b' Position', b' :', b' ', b'01', b'/', b'202', b'3', b' -', b' present', b' L', b'uminum', b' ICT', b' d', b'.o', b'.o', b' .', b' Java', b' Software', b' Engineer', b' ', b'10', b'/', b'202', b'1', b' ', b' ', b'12', b'/', b'202', b'2', b' Robot', b'iq', b'.ai', b' Data', b' Scientist', b' ', b'09', b'/', b'202', b'0', b' ', b' ', b'10', b'/', b'202', b'1', b' Freel', b'ance', b' Data', b' Analyst', b' Projects', b' project', b' activities', b' ER', b'V', b' ', b' Junior', b' Software', b' Engineer', b' ', b' L', b'uminum', b' ICT', b' Industry', b' :', b' Human', b' Resources', b' Date', b' (', b' )', b' :', b' September', b' ', b'202', b'2', b' ', b' current', b' Summary', b' :', b' Contrib', b'uted', b' backend', b' software', b' development', b' ,', b' emphasizing', b' learning', b' ,', b' resolving', b' non', b'-c', b'ritical', b' bugs', b' ,', b' software', b' testing', b' project', b' focused', b' employee', b' performance', b' monitoring', b' .', b' Technology', b' :', b' Java', b' ,', b' React', b' ,', b' Spring', b' Boot', b' ,', b' Maven', b' ,', b' SQL', b' ,', b' j', b'Unit', b' ,', b' Git', b' Contribution', b' :', b' ', b' Backend', b' software', b' development', b' ', b' Unit', b' testing', b' ,', b' manual', b' testing', b' ', b' Meeting', b' particip', b'ations', b' discussions', b' Python', b' Code', b' Trans', b'cription', b' Microsoft', b' Power', b' Autom', b'ate', b' ', b' Data', b' Scientist', b' ', b' Intelligent', b' Solutions', b' Industry', b' :', b' Business', b' Intelligence', b' Date', b' (', b' )', b' :', b' September', b' ', b'202', b'3', b' ', b' November', b' ', b'202', b'3', b' Summary', b' :', b' Led', b' creation', b' P', b'OC', b' Python', b' program', b' reads', b' converts', b' various', b' actions', b' Python', b' code', b' MS', b' Power', b' Autom', b'ate', b' workflows', b' syntax', b' ,', b' utilizing', b' blend', b' tools', b' regex', b' expressions', b' VB', b'Script', b' ,', b' tailored', b' specific', b' Python', b' file', b' trans', b'cribed', b' .', b' Technology', b' :', b' Python', b' ,', b' Regex', b' Express', b'ions', b' ,', b' AST', b' ,', b' VB', b'Script', b' ,', b' MS', b' Power', b' Autom', b'ate', b' Contribution', b' :', b' ', b' Engine', b'ered', b' program', b' accurate', b' Python', b' code', b' conversion', b' MS', b' Power', b' Autom', b'ate', b' syntax', b' .', b' ', b' Managed', b' effectively', b' scheduled', b' project', b' timelines', b' milestones', b' .', b' ', b' Developed', b' robust', b' VB', b'Script', b' code', b' improve', b' operational', b' efficiency', b' middle', b' management', b' tasks', b' .', b' Financial', b' Fraud', b' Prevention', b' ', b' Data', b' Analyst', b' ', b' De', b'ust', b'che', b' Bank', b' (', b' collaboration', b' P', b'w', b'C', b' )', b' Industry', b' :', b' Banking', b' &', b' Finance', b' Date', b' (', b' )', b' :', b' March', b' ', b'202', b'3', b' ', b' August', b' ', b'202', b'3', b' Summary', b' :', b' Conduct', b'ed', b' entirely', b' German', b' ,', b' aimed', b' combating', b' financial', b' fraud', b' preventing', b' terrorist', b' activities', b' enhanced', b' financial', b' scrutiny', b' .', b' Entr', b'usted', b' sensitive', b' data', b' Deutsche', b' Bank', b' Post', b'Bank', b' ,', b' innovative', b' data', b' analysis', b' processes', b' optimized', b' ,', b' ensuring', b' project', b' objectives', b' consistently', b' met', b' surpassed', b' amidst', b' substantial', b' corporate', b' pressure', b' .', b' Technology', b' :', b' N', b'OS', b' ,', b' SAP', b' ,', b' Internal', b' Deutsche', b' Bank', b' Software', b' ,', b' SharePoint', b' ,', b' Excel', b' Contribution', b' :', b' ', b' Managed', b' analyzed', b' sensitive', b' data', b' ', b' Optim', b'ized', b' processes', b' improved', b' efficiency', b' productivity', b' ', b' Collabor', b'ated', b' globally', b' ,', b' enhancing', b' multicultural', b' team', b' interaction', b' ', b' Applied', b' expertise', b' financial', b' fraud', b' detection', b' prevention', b' strategies', b' User', b' Intent', b' Detection', b' ', b' Junior', b' Data', b' Scientist', b' ', b' Robot', b'iq', b'.AI', b' Industry', b' :', b' Research', b' &', b' Development', b' Date', b' (', b' )', b' :', b' October', b' ', b'202', b'1', b' ', b' December', b' ', b'202', b'2', b' Summary', b' :', b' Spear', b'headed', b' development', b' computer', b' vision', b' solution', b' ,', b' managing', b' aspects', b' project', b' data', b' generation', b' algorithm', b' creation', b' ML', b' model', b' training', b' ,', b' significantly', b' improving', b' user', b' interface', b' experiences', b' .', b' Technology', b' :', b' Python', b' ,', b' TensorFlow', b' ,', b' Open', b'CV', b' ,', b' Pillow', b' ,', b' Rabbit', b'MQ', b' ,', b' Flask', b' ,', b' Pand', b'as', b' Contribution', b' :', b' ', b' Project', b' organization', b' /', b' documentation', b' ', b' Problem', b' &', b' solution', b' definition', b' ', b' Data', b' lifecycle', b' ,', b' Algorithm', b' creation', b' &', b' ML', b' model', b' training', b' ', b' Student', b' mentoring', b' User', b' Intent', b' Detection', b' Data', b' Analyst', b' ', b' Freel', b'ance', b' Industry', b' :', b' Research', b' &', b' Development', b' Date', b' (', b' )', b' :', b' September', b' ', b'202', b'0', b' -', b' October', b' ', b'202', b'1', b' Summary', b' :', b' Eng', b'aged', b' various', b' freelance', b' projects', b' ,', b' focusing', b' data', b' analysis', b' providing', b' insights', b' drive', b' decision', b'-making', b' optimize', b' processes', b' .', b' Technology', b' :', b' Python', b' ,', b' J', b'upyter', b' ,', b' R', b' ,', b' SP', b'SS', b' ,', b' E', b'DA', b' Contribution', b' :', b' ', b' Statistical', b' analysis', b' ', b' Data', b' visualization', b' &', b' presentation', b' Education', b' Bachelor', b' Arts', b' ,', b' Reg', b'ensburg', b' University', b' Languages', b' English', b' ', b' mother', b' tongue', b' Croatian', b' ', b' flu', b'ently', b' German', b' -', b' flu', b'ently', b' French', b' ', b' flu', b'ently', b' Complete', b' tasks', b' ', b'1', b'-', b'4', b' .', b' Perfect', b' ,', b' thank', b' sharing', b' resume', b' .', b' Based', b' information', b' provided', b' ,', b' craft', b' cover', b' letter', b' tailor', b' resume', b' align', b' better', b' Data', b' Engineer', b' position', b' Trans', b'com', b' .', b' --', b' -', b' #', b' #', b' #', b' Cover', b' Letter', b' [', b' Address', b' ]', b' [', b' City', b' ,', b' State', b' ,', b' Zip', b' ]', b' [', b' Email', b' ]', b' [', b' Phone', b' Number', b' ]', b' [', b' Date', b' ]', b' Hiring', b' Manager', b' Trans', b'com', b' [', b' Company', b' ', b' Address', b' ]', b' [', b' City', b' ,', b' State', b' ,', b' Zip', b' ]', b' Dear', b' Hiring', b' Manager', b' ,', b' writing', b' express', b' interest', b' Data', b' Engineer', b' position', b' Trans', b'com', b' ,', b' renowned', b' global', b' customer', b' service', b' provider', b' known', b' relentless', b' commitment', b' innovation', b' excellence', b' .', b' background', b' Data', b' Scientist', b' Software', b' Engineer', b' ,', b' accompanied', b' rich', b' blend', b' skills', b' data', b' lifecycle', b' management', b' ,', b' machine', b' learning', b' ,', b' software', b' development', b' ,', b' enthusiastic', b' opportunity', b' contribute', b' Trans', b'com', b\" '\", b's', b' mission', b' delivering', b' smarter', b' people', b' experiences', b' cutting', b'-edge', b' technological', b' solutions', b' .', b' commitment', b' driving', b' brands', b' forward', b' digital', b' excellence', b' innovation', b' reson', b'ates', b' professional', b' journey', b' .', b' bring', b' comprehensive', b' understanding', b' data', b' ,', b' problem', b' identification', b' solution', b' definition', b' implementation', b' ,', b' hon', b'ed', b' various', b' roles', b' ,', b' including', b' Data', b' Scientist', b' position', b' Robot', b'iq', b'.ai', b' .', b' ,', b' spear', b'headed', b' project', b' developed', b' algorithm', b'ic', b' computer', b' vision', b' solutions', b' ,', b' managing', b' entire', b' project', b' flow', b' ensuring', b' delivery', b' impactful', b' ,', b' user', b'-centric', b' solutions', b' .', b' exc', b'ites', b' opportunity', b' Trans', b'com', b' ability', b' forefront', b' technological', b' advancements', b' ,', b' optimizing', b' workflows', b' ,', b' actively', b' participating', b' continuous', b' improvement', b' efforts', b' ,', b' ultimately', b' enhancing', b' customer', b' experiences', b' .', b' value', b' multicultural', b' supportive', b' team', b' align', b's', b' seamlessly', b' proficiency', b' multiple', b' European', b' languages', b' collaborative', b' adaptive', b' work', b' style', b' ,', b' making', b' fitting', b' addition', b' diverse', b' team', b' .', b' particularly', b' drawn', b' Trans', b'com', b' ', b' values', b' support', b' ,', b' integrity', b' ,', b' continuous', b' learning', b' .', b' appreciate', b' inclusive', b' culture', b' emphasis', b' creating', b' brilliant', b' futures', b' ,', b' eager', b' contribute', b' analytical', b' ac', b'umen', b' ,', b' problem', b'-solving', b' skills', b' ,', b' passion', b' data', b' engineering', b' towards', b' meaningful', b' impact', b' Trans', b'com', b' .', b' looking', b' forward', b' opportunity', b' discuss', b' skills', b' experiences', b' align', b' Trans', b'com', b' ', b' needs', b' collabor', b'atively', b' drive', b' success', b' esteemed', b' organization', b' .', b' Thank', b' considering', b' application', b' .', b' Warm', b' regards', b' ,', b' K', b'iah', b' Jane', b' Jones', b' --', b' -', b' #', b' #', b' #', b' Tail', b'ored', b' Resume', b' #', b' #', b' K', b'iah', b' Jane', b' Jones', b' Junior', b' Software', b' Engineer', b' |', b' Data', b' Scientist', b' [', b' Email', b' ]', b' |', b' [', b' Phone', b' Number', b' ]', b' #', b' #', b' #', b' Professional', b' Summary', b' Passion', b'ate', b' versatile', b' professional', b' experience', b' data', b' science', b' software', b' engineering', b' .', b' Sk', b'illed', b' managing', b' entire', b' data', b' lifecycle', b' ,', b' problem', b' identification', b' solution', b' implementation', b' ,', b' focus', b' enhancing', b' operational', b' efficiencies', b' user', b' experiences', b' .', b' Strong', b' collaborative', b' communication', b' skills', b' ,', b' coupled', b' multicultural', b' linguistic', b' proficiency', b' ,', b' ready', b' contribute', b' towards', b' innovative', b' data', b' engineering', b' solutions', b' Trans', b'com', b' .', b' #', b' #', b' #', b' Key', b' Skills', b' -', b' *', b' *', b' Data', b' Engineering', b' *', b' *', b' :', b' SQL', b' ,', b' Python', b' ,', b' R', b' ,', b' E', b'TL', b' -', b' *', b' *', b' Software', b' Development', b' *', b' *', b' :', b' Java', b' ,', b' React', b' -', b' *', b' *', b' Data', b' Science', b' *', b' *', b' :', b' Machine', b' Learning', b' ,', b' Data', b' Analysis', b' &', b' Visualization', b' -', b' *', b' *', b' Collaboration', b' Tools', b' *', b' *', b' :', b' Git', b' ,', b' J', b'ira', b' -', b' *', b' *', b' Languages', b' *', b' *', b' :', b' Fluent', b' English', b' ,', b' Croatian', b' ,', b' German', b' ,', b' French', b' #', b' #', b' #', b' Professional', b' Experience', b' #', b' #', b' #', b' #', b' L', b'uminum', b' ICT', b' d', b'.o', b'.o', b' .', b' _', b'Java', b' Software', b' Engineer', b' ,', b' January', b' ', b'202', b'3', b' -', b' present', b'_', b' -', b' Contrib', b'uted', b' backend', b' software', b' development', b' ,', b' emphasizing', b' learning', b' ,', b' resolving', b' non', b'-c', b'ritical', b' bugs', b' ,', b' software', b' testing', b' project', b' focused', b' employee', b' performance', b' monitoring', b' .', b' #', b' #', b' #', b' #', b' Robot', b'iq', b'.ai', b' _', b'Data', b' Scientist', b' ,', b' October', b' ', b'202', b'1', b' ', b' December', b' ', b'202', b'2', b'_', b' -', b' Spear', b'headed', b' development', b' computer', b' vision', b' solution', b' ,', b' managing', b' aspects', b' project', b' data', b' generation', b' algorithm', b' creation', b' ML', b' model', b' training', b' ,', b' significantly', b' improving', b' user', b' interface', b' experiences', b' .', b' #', b' #', b' #', b' #', b' Freel', b'ance', b' _', b'Data', b' Analyst', b' ,', b' September', b' ', b'202', b'0', b' ', b' October', b' ', b'202', b'1', b'_', b' -', b' Eng', b'aged', b' various', b' freelance', b' projects', b' ,', b' focusing', b' data', b' analysis', b' providing', b' insights', b' drive', b' decision', b'-making', b' optimize', b' processes', b' .', b' #', b' #', b' #', b' Education', b' _', b'Bachelor', b' Arts', b'_', b' ,', b' Reg', b'ensburg', b' University', b' --', b' -', b' cover', b' letter', b' resume', b' tailored', b' emphasize', b' skills', b' experiences', b' align', b' Trans', b'com', b\" '\", b's', b' values', b' job', b' description', b' Data', b' Engineer', b' position', b' ,', b' aiming', b' demonstrate', b' fit', b' enthusiasm', b' role', b' .', b' Remember', b' customize', b' [', b' Address', b' ]', b' ,', b' [', b' City', b' ,', b' State', b' ,', b' Zip', b' ]', b' ,', b' [', b' Email', b' ]', b' ,', b' [', b' Phone', b' Number', b' ]', b' fields', b' sending', b' application', b' .', b' Good', b' luck', b' !']\n",
      "\n",
      "\n",
      "This encoding takes a total of 2948 tokens (model: gpt-4)\n",
      "\n"
     ]
    },
    {
     "name": "stdout",
     "output_type": "stream",
     "text": [
      "What is the job position title you are interested in applying for? \n",
      "     Enter 'END' on a new line when you are finished:\n"
     ]
    },
    {
     "name": "stdout",
     "output_type": "stream",
     "text": [
      " data engineer\n",
      " END\n"
     ]
    },
    {
     "name": "stdout",
     "output_type": "stream",
     "text": [
      "Please paste the entire job description into the terminal: \n",
      "     Enter 'END' on a new line when you are finished:\n"
     ]
    },
    {
     "name": "stdout",
     "output_type": "stream",
     "text": [
      " Job description We are the voice of our clients. Equipped with intelligent technology, we are a global network of local specialists ambitious about making things work. We continuously evolve to be one step ahead by anticipating the newest technology and trends to improve the customer experience from reactive troubleshooting to active solution-finding. It is what we call Smarter People Experiences. We are 27,000 customer experience specialists at 50 contact centers and a large network of home agents, delivering services to international brands in various industries across 20 countries in 33 languages. We are TRANSCOM!      Join us as a Data Engineer!  Taking ownership over the external-facing data pipelines that are integral to our success  Optimizing our offerings for efficiency and reliability at scale  Identifying areas of architectural improvement to remove the potential for human error  Collaborating with product and engineering teams to create innovative solutions to challenging problems  Building out a testing framework to ensure uptime and reliability of data pipelines  Understanding the analytics data we collect from our systems and how it relates to the business value being produced     What’s in it for YOU!  Career opportunities - growth within the company, both horizontal and vertical Personal and professional development: conferences, training, and coaching on the job Winning atmosphere and supportive team - we strive for collaborative, informal vibes with a focus on getting things done Opportunity to be innovative and pitch your own ideas Freedom in execution and forming of the organization Multicultural communication and best practice sharing A minimum of 23 vacation days (growing with tenure and parent status) Free parking space 100% covered Multisport card or Moontop benefit system Additional health insurance Christmas and Easter bonus Team buildings Education budget set in each department Personalised development plan   Job requirements .What we are looking for:  Degree in Computer Science or related fields  SQL knowledge is a must, as well as other programming languages such as (Python, Java, etc)  Experience in Cloud environments, especially Google Cloud Platform  Demonstrated experience with Apache Airflow and Apache Beam SDK are nice to have  Experience with serverless databases, such as Google BigQuery  Exposure to traditional ETL tools like SAP Data Services  REST API development experience  Extended experience with different relational and columnar databases  Experience with visualization tools (Business Objects, Looker, Tableau, others) is nice to have  Development practice following Agile methodology  Self-organized and responsible for task delivery, guaranteeing excellent quality, as well as delivery respecting deadlines  Superb problem-solving skills, with an analytical and data-driven mindset  Excellent communication skills and a team player attitude  Ability to work in a geographically and culturally diverse environment  Ability to meet deadlines and work under pressure  Ability to travel abroad if required and occasional off-hours availability  Fluency in English is a must (both written and spoken). Other languages are a plus   Personality profile:  You don’t like leaving questions unanswered and you love exploring/understanding data  You have relevant experience in creating pipelines for large data sets  You are passionate about crafting clean code and have a steady foundation in coding and building data pipelines (especially in Python)  You love to be the bridge between engineering and analysis to have an impact on the product  You are interested in optimizing workflows and maintaining backend systems  You seek to participate in continuous improvement efforts such as software development, planning, estimating, developing, testing      What Life at Transcom is like! Transcom Worldwide is one of the leading global customer experience companies, supplying local and global clients in multiple markets within our global footprint with forward-leaning customer experience solutions via different channels like voice, chat, social media etc. We are 30,000 customer experience specialists at 69 offices across 26 countries, delivering services in 33 languages to international brands in various industry verticals. At Transcom, we’re relentlessly committed. To our clients and each other. Every day, someone starts their journey with Transcom. Taking the potential they have today, and turning it into skills for the future. Getting recognized for working hard, being a team player, and supporting others. Championing positive, lasting change in their teams and communities. That’s just how we are at Transcom. Here we care, and root for each other. You’re included, just as you are, from day one. And with the right mindset, there’s no end to how far we can go together.   At Transcom, we follow our Values to a T, we live them, we breathe them, it is what we base our day to day work life on (and it is not just an empty promise, ask anyone).  We’re here to support  We keep our promises  We come as we are  We’re team players  We’re lifelong learners    We’re sure you loved everything you’ve read and heard, and would definitely love to learn more. In that case, apply, come talk to us, we are an open book. You will get all the nitty-gritty details, no hidden agendas, no false promises. What you hear/see, is what you get.\n",
      " END\n"
     ]
    },
    {
     "name": "stdout",
     "output_type": "stream",
     "text": [
      "Please paste the entire about page into the terminal: \n",
      "     Enter 'END' on a new line when you are finished:\n"
     ]
    },
    {
     "name": "stdout",
     "output_type": "stream",
     "text": [
      "  Industries Services About us Locations Insights Careers Global Contact us WHO WE ARE ffgh Relentlessly committed to your ambition. We’re CX fanatics, as passionate about our clients as their fans are. It’s why the most-loved brands in the world rely on us. You'll find us behind the brilliance of disruptive e-commerce players, category redefining fintechs, technology legends, and more. Talk to us   Big ideas, brought to life. Back in 1995, Swedish investment company Kinnevik had a vision of founding a global customer service provider with big ambitions and brilliant clients. That's how Transcom was born. Within a decade, we expanded across Europe and soon after, kicked off work-at-home operations in North America, followed by business in the US, Canada and the Philippines. What made it possible? For one, a nimble attitude towards on, off, and nearshoring, which we call smartshoring. For another, endless curiosity, embracing cultures, and relentless commitment to our clients' success.  Read more about smartshoring —   Powered by people. When you're relentlessly committed to clients, you need people who share your passion. That means not only attracting top talent and helping them grow their careers, but creating connections with every community you join. When it comes to people, our policy is open doors. Brilliant futures. Strong roots. So that we can build the brilliance together, as a team.  Read more about life at Transcom —   Your digital demands, met. Transcom clients know digital excellence when they see it. Particularly when that innovation drives their brands forward, customer satisfaction up and operating costs down. We see the opportunity in every chat, call, word and script. To use our digital solutions and tech to make a difference, make things even better, and bring your ambitions to life in new and exciting ways.  Read more about our digital solutions —  techstyleos logo  getyourguide logo  cgi  paypal  whirlpool Some of the brilliant brands we're behind. The people behind the brilliance. Our people are our greatest strength. Ambitious, committed, savvy, and always looking for the best way to make sure the work gets done. Transcom people grow as much as they want. Go as far as they can. They work with the world’s most beloved brands from day one. And we make sure we're here for them, creating brilliant futures as we go.  red blouse guy walking woman talking on the phone  people Get behind the brilliance. When people join the Transcom team, doors open. Working with the world's most exciting brands, always learning and growing, connecting with their communities. We create brilliant futures - ready for the taking. Ready for you.  Read more about careers at Transcom — Some quick facts.  # Company facts Company facts Founded: 1995  Global headquarters: Stockholm, Sweden  President & CEO: Jonas Dahlberg  Ownership: Transcom is a privately owned company. Altor Fund IV is the majority owner, alongside significant minority investor Gunilla von Platen, as well as key people from the Transcom management team.   # Financial facts  # Global reach  # Market & services  # Recognitions Xzakt and Awesome OS are part of the Transcom family.   Awesome OS Awesome OS is a next-generation business services outsourcing company that enables the most prominent startups and e-commerce companies to deliver unprecedented levels of performance and customer delight.  Awesome OS provides best-in-class customer service operations, back-office support, web/software development, and graphic design services that empower companies to prioritize their core functions. Acquired by Transcom in 2018, Awesome OS is a part of the Transcom WorldWide family.    Xzakt Xzakt is one of the leading companies in outsourced customer service in Scandinavia. With over 20 years of experience, we offer world-class services to some of the most exciting companies in the Nordic region. We have over 300 customer-obsessed employees and deliver our services from sites in Gävle, Skellefteå, Eskilstuna, and Malaga. We have a unique operating model that works really well with fast-growing tech & e-com companies supporting them with smart, flexible, and high-quality solutions for their customer service. Founded by Gunilla von Platen in 2001 and acquired by Altor in 2017, today Xzakt is a part of the Transcom Worldwide family.  Let's start something brilliant. Get in touch Transcom ©2023 Privacy — Terms Industries E-commerce & Tech Services & Utilities Telecom, Cable & Broadband operators Startup & Scaleup Services CX services Digital solutions Transformation solutions Smartshoring services Careers Locations T:Life Job openings About us Who we are Company leadership Investor relations Sustainability Contact us Follow Us\n",
      " END\n"
     ]
    },
    {
     "name": "stdout",
     "output_type": "stream",
     "text": [
      "Please paste your entire resume into the terminal: \n",
      "     Enter 'END' on a new line when you are finished:\n"
     ]
    },
    {
     "name": "stdout",
     "output_type": "stream",
     "text": [
      " Kiah Jane Jones Junior Software Engineer | Data Scientist  Professional Summary Kiah Jane Jones is a devoted software engineer and data scientist embodying a blend of organizational brilliance and analytical prowess. Her code and working style are reflections of meticulous organization, ensuring a smooth, efficient workflow and clear, maintainable code. Kiah's approach is both analytical and creative, allowing for innovative solutions that are both logically sound and outside the conventional box.  In addition to her technical acumen, Kiah brings strong collaborative and communication skills to the table, fortified by proficiency in several European languages. This multicultural linguistic ability enhances her capacity to thrive in diverse team environments, facilitating effective and inclusive communication strategies. Armed with these qualities, Kiah is primed to contribute innovative data engineering solutions and vibrant team dynamics to Transcom, enhancing project outcomes and team synergy.  Key Skills Java Software Engineer Experience: \t< 6 months Technology: \tJava, React Summary: \tDeveloping, testing and maintaining software applications written in Java and React.  Data Scientist Experience: \t2 years Technology: \tPython, R, SQL, Data Analysis & Visualization, Machine Learning, ETL, EDA, OCR, Computer Vision Summary: \tKiah has meaningful experience in fields of data science and machine learning.  Other Skills SQL, Python, R, Statistics, TensorFlow, Git, Jira, VBScript, MS PowerBI, Flask, RabbitMQ, Pandas, OpenCV  Professional Experience Employment record  Period:\tEmployer:\tPosition: 01/2023 - present\tLuminum ICT d.o.o.\tJava Software Engineer 10/2021 – 12/2022\tRobotiq.ai\tData Scientist 09/2020 – 10/2021\tFreelance\tData Analyst Projects and project activities  ERV – Junior Software Engineer – Luminum ICT Industry: Human Resources Date(s): September 2022 – current Summary: Contributed to backend software development, emphasizing learning, resolving non-critical bugs, and software testing in a project focused on employee performance monitoring. Technology: Java, React, Spring Boot, Maven, SQL, jUnit, Git Contribution:  •\tBackend software development •\tUnit testing, manual testing •\tMeeting participations and discussions  Python Code Transcription into Microsoft Power Automate – Data Scientist – Intelligent Solutions Industry: Business Intelligence Date(s): September 2023 – November 2023 Summary: Led the creation of a POC Python program that reads and converts various actions in Python code into MS Power Automate workflows syntax, utilizing a blend of tools such as regex expressions and VBScript, tailored to the specific Python file being transcribed. Technology: Python, Regex Expressions, AST, VBScript, MS Power Automate Contribution:  •\tEngineered program for accurate Python code conversion to MS Power Automate syntax. •\tManaged and effectively scheduled project timelines and milestones. •\tDeveloped robust VBScript code to improve operational efficiency of middle management tasks.  Financial Fraud Prevention – Data Analyst – Deustche Bank (in collaboration with PwC) Industry: Banking & Finance Date(s): March 2023 – August 2023 Summary: Conducted entirely in German, aimed at combating financial fraud and preventing terrorist activities through enhanced financial scrutiny. Entrusted with sensitive data from Deutsche Bank and PostBank, innovative data analysis processes were optimized, ensuring that project objectives were consistently met and surpassed amidst substantial corporate pressure. Technology: NOS, SAP, Internal Deutsche Bank Software, SharePoint, Excel Contribution:  •\tManaged and analyzed sensitive data •\tOptimized processes for improved efficiency and productivity •\tCollaborated globally, enhancing multicultural team interaction •\tApplied expertise in financial fraud detection and prevention strategies  User Intent Detection – Junior Data Scientist – Robotiq.AI Industry: Research & Development Date(s): October 2021 – December 2022 Summary: Spearheaded the development of a computer vision solution, managing all aspects of the project from data generation to algorithm creation and ML model training, significantly improving user interface experiences. Technology: Python, TensorFlow, OpenCV, Pillow, RabbitMQ, Flask, Pandas Contribution:  •\tProject organization / documentation •\tProblem & solution definition •\tData lifecycle, Algorithm creation & ML model training •\tStudent mentoring  User Intent Detection –Data Analyst – Freelance Industry: Research & Development Date(s): September 2020 - October 2021  Summary: Engaged in various freelance projects, focusing on data analysis and providing insights to drive decision-making and optimize processes. Technology: Python, Jupyter, R, SPSS, EDA Contribution:  •\tStatistical analysis •\tData visualization & presentation  Education  Bachelor of Arts, Regensburg University  Languages  English – mother tongue Croatian – fluently  German - fluently French – fluently\n",
      " END\n"
     ]
    },
    {
     "name": "stdout",
     "output_type": "stream",
     "text": [
      "Please paste an output example into the terminal: \n",
      "     Enter 'END' on a new line when you are finished:\n"
     ]
    },
    {
     "name": "stdout",
     "output_type": "stream",
     "text": [
      " Perfect, thank you for sharing your resume. Based on the information provided, I will craft a cover letter and then tailor your resume to align better with the Data Engineer position at Transcom.  ---  ### Cover Letter  [Your Address]   [City, State, Zip]   [Your Email]   [Your Phone Number]   [Date]  Hiring Manager   Transcom   [Company’s Address]   [City, State, Zip]  Dear Hiring Manager,  I am writing to express my interest in the Data Engineer position at Transcom, a renowned global customer service provider known for its relentless commitment to innovation and excellence. With my background as a Data Scientist and Software Engineer, accompanied by a rich blend of skills in data lifecycle management, machine learning, and software development, I am enthusiastic about the opportunity to contribute to Transcom's mission of delivering smarter people experiences through cutting-edge technological solutions.  Your commitment to driving brands forward with digital excellence and innovation resonates with my professional journey. I bring a comprehensive understanding of data, from problem identification to solution definition and implementation, honed through various roles, including a Data Scientist position at Robotiq.ai. Here, I spearheaded a project where I developed algorithmic computer vision solutions, managing the entire project flow and ensuring the delivery of impactful, user-centric solutions.  What excites me about this opportunity at Transcom is the ability to be at the forefront of technological advancements, optimizing workflows, and actively participating in continuous improvement efforts, ultimately enhancing customer experiences. Your value for a multicultural and supportive team aligns seamlessly with my proficiency in multiple European languages and my collaborative and adaptive work style, making me a fitting addition to your diverse team.  I am particularly drawn to Transcom’s values of support, integrity, and continuous learning. I appreciate your inclusive culture and the emphasis on creating brilliant futures, and I am eager to contribute my analytical acumen, problem-solving skills, and passion for data engineering towards meaningful impact at Transcom.  I am looking forward to the opportunity to discuss how my skills and experiences align with Transcom’s needs and how we can collaboratively drive success in your esteemed organization. Thank you for considering my application.  Warm regards,  Kiah Jane Jones  ---  ### Tailored Resume  ## Kiah Jane Jones Junior Software Engineer | Data Scientist   [Your Email] | [Your Phone Number]    ### Professional Summary Passionate and versatile professional with experience in data science and software engineering. Skilled in managing the entire data lifecycle, from problem identification to solution implementation, with a focus on enhancing operational efficiencies and user experiences. Strong collaborative and communication skills, coupled with a multicultural linguistic proficiency, ready to contribute towards innovative data engineering solutions at Transcom.  ### Key Skills - **Data Engineering**: SQL, Python, R, ETL - **Software Development**: Java, React - **Data Science**: Machine Learning, Data Analysis & Visualization - **Collaboration Tools**: Git, Jira - **Languages**: Fluent in English, Croatian, German, and French  ### Professional Experience  #### Luminum ICT d.o.o. _Java Software Engineer, January 2023 - present_ - Contributed to backend software development, emphasizing learning, resolving non-critical bugs, and software testing in a project focused on employee performance monitoring.  #### Robotiq.ai _Data Scientist, October 2021 – December 2022_ - Spearheaded the development of a computer vision solution, managing all aspects of the project from data generation to algorithm creation and ML model training, significantly improving user interface experiences.  #### Freelance _Data Analyst, September 2020 – October 2021_ - Engaged in various freelance projects, focusing on data analysis and providing insights to drive decision-making and optimize processes.  ### Education _Bachelor of Arts_, Regensburg University  ---  This cover letter and resume are tailored to emphasize the skills and experiences that align with Transcom's values and the job description for the Data Engineer position, aiming to demonstrate your fit and enthusiasm for the role. Remember to customize the [Your Address], [City, State, Zip], [Your Email], and [Your Phone Number] fields before sending the application. Good luck!\n",
      " END\n"
     ]
    },
    {
     "ename": "TypeError",
     "evalue": "count_tokens.<locals>.tokenize_text() missing 1 required positional argument: 'encoding'",
     "output_type": "error",
     "traceback": [
      "\u001b[1;31m---------------------------------------------------------------------------\u001b[0m",
      "\u001b[1;31mTypeError\u001b[0m                                 Traceback (most recent call last)",
      "Cell \u001b[1;32mIn[20], line 2\u001b[0m\n\u001b[0;32m      1\u001b[0m \u001b[38;5;28;01mif\u001b[39;00m \u001b[38;5;18m__name__\u001b[39m \u001b[38;5;241m==\u001b[39m \u001b[38;5;124m\"\u001b[39m\u001b[38;5;124m__main__\u001b[39m\u001b[38;5;124m\"\u001b[39m:\n\u001b[1;32m----> 2\u001b[0m     \u001b[43mmain\u001b[49m\u001b[43m(\u001b[49m\u001b[43mmodel_encoders\u001b[49m\u001b[43m)\u001b[49m\n",
      "Cell \u001b[1;32mIn[18], line 16\u001b[0m, in \u001b[0;36mmain\u001b[1;34m(model_encoders)\u001b[0m\n\u001b[0;32m     14\u001b[0m \u001b[38;5;28;01mfor\u001b[39;00m model_encoder \u001b[38;5;129;01min\u001b[39;00m model_encoders:\n\u001b[0;32m     15\u001b[0m     encoding \u001b[38;5;241m=\u001b[39m tiktoken\u001b[38;5;241m.\u001b[39mencoding_for_model(model_encoder)\n\u001b[1;32m---> 16\u001b[0m     num_tokens \u001b[38;5;241m=\u001b[39m \u001b[43mcount_tokens\u001b[49m\u001b[43m(\u001b[49m\u001b[43mprompt\u001b[49m\u001b[43m,\u001b[49m\u001b[43m \u001b[49m\u001b[43mencoding\u001b[49m\u001b[43m)\u001b[49m\n\u001b[0;32m     17\u001b[0m     \u001b[38;5;28mprint\u001b[39m(\u001b[38;5;124mf\u001b[39m\u001b[38;5;124m\"\u001b[39m\u001b[38;5;130;01m\\n\u001b[39;00m\u001b[38;5;130;01m\\n\u001b[39;00m\u001b[38;5;124mThis encoding takes a total of \u001b[39m\u001b[38;5;132;01m{\u001b[39;00mnum_tokens\u001b[38;5;132;01m}\u001b[39;00m\u001b[38;5;124m tokens (model: \u001b[39m\u001b[38;5;132;01m{\u001b[39;00mmodel_encoder\u001b[38;5;132;01m}\u001b[39;00m\u001b[38;5;124m)\u001b[39m\u001b[38;5;130;01m\\n\u001b[39;00m\u001b[38;5;124m\"\u001b[39m)\n\u001b[0;32m     18\u001b[0m     \u001b[38;5;28;01massert\u001b[39;00m encoding\u001b[38;5;241m.\u001b[39mdecode(encoding\u001b[38;5;241m.\u001b[39mencode(prompt)) \u001b[38;5;241m==\u001b[39m prompt, \u001b[38;5;124m\"\u001b[39m\u001b[38;5;124mError: failed input encoding.\u001b[39m\u001b[38;5;124m\"\u001b[39m\n",
      "Cell \u001b[1;32mIn[17], line 32\u001b[0m, in \u001b[0;36mcount_tokens\u001b[1;34m(prompt_input, encoding)\u001b[0m\n\u001b[0;32m     29\u001b[0m \u001b[38;5;66;03m# Check if prompt_input is string\u001b[39;00m\n\u001b[0;32m     30\u001b[0m \u001b[38;5;28;01mif\u001b[39;00m \u001b[38;5;28misinstance\u001b[39m(prompt_input, \u001b[38;5;28mstr\u001b[39m):\n\u001b[0;32m     31\u001b[0m     \u001b[38;5;66;03m#print(f\"Handled a string: {input}\")        \u001b[39;00m\n\u001b[1;32m---> 32\u001b[0m     num_tokens \u001b[38;5;241m+\u001b[39m\u001b[38;5;241m=\u001b[39m \u001b[43mtokenize_text\u001b[49m\u001b[43m(\u001b[49m\u001b[43mprompt_input\u001b[49m\u001b[43m)\u001b[49m \u001b[38;5;241m+\u001b[39m \u001b[38;5;241m3\u001b[39m \u001b[38;5;66;03m# (+3): every reply is primed with <|start|>assistant<|message|>\u001b[39;00m\n\u001b[0;32m     33\u001b[0m     \u001b[38;5;28;01mreturn\u001b[39;00m num_tokens\n\u001b[0;32m     35\u001b[0m \u001b[38;5;66;03m# Check if prompt_input is list\u001b[39;00m\n",
      "\u001b[1;31mTypeError\u001b[0m: count_tokens.<locals>.tokenize_text() missing 1 required positional argument: 'encoding'"
     ]
    }
   ],
   "source": [
    "if __name__ == \"__main__\":\n",
    "    main(model_encoders)"
   ]
  }
 ],
 "metadata": {
  "kernelspec": {
   "display_name": "Python 3 (ipykernel)",
   "language": "python",
   "name": "python3"
  },
  "language_info": {
   "codemirror_mode": {
    "name": "ipython",
    "version": 3
   },
   "file_extension": ".py",
   "mimetype": "text/x-python",
   "name": "python",
   "nbconvert_exporter": "python",
   "pygments_lexer": "ipython3",
   "version": "3.11.5"
  }
 },
 "nbformat": 4,
 "nbformat_minor": 5
}
